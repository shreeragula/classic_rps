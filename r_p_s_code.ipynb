{
 "cells": [
  {
   "cell_type": "code",
   "execution_count": null,
   "id": "00ee92bf-dceb-4e09-a28d-aaa11f79cdff",
   "metadata": {},
   "outputs": [
    {
     "name": "stdout",
     "output_type": "stream",
     "text": [
      "Let's start the rock paper scissor game!!!!\n"
     ]
    },
    {
     "name": "stdout",
     "output_type": "stream",
     "text": [
      "Enter a choice as shown below:\n",
      "1.Rock\n",
      "2.Paper\n",
      "3.Scissor\n",
      " 6\n",
      "Enter a valid choice: 7\n",
      "Enter a valid choice: 3\n"
     ]
    },
    {
     "name": "stdout",
     "output_type": "stream",
     "text": [
      "\n",
      "User Choice is Scissor\n",
      "\n",
      "***It's Computern turn***\n",
      "\n",
      "Computer choice is Scissor\n",
      "It's a Tie\n"
     ]
    },
    {
     "name": "stdout",
     "output_type": "stream",
     "text": [
      "\n",
      "noEnter \"YES\" to play again or enter \"NO\" : 4\n",
      "Enter a choice as shown below:\n",
      "1.Rock\n",
      "2.Paper\n",
      "3.Scissor\n",
      " 4\n",
      "Enter a valid choice: 4\n",
      "Enter a valid choice: 2\n"
     ]
    },
    {
     "name": "stdout",
     "output_type": "stream",
     "text": [
      "\n",
      "User Choice is Paper\n",
      "\n",
      "***It's Computern turn***\n",
      "\n",
      "Computer choice is Scissor\n",
      "***Computer Win's***\n"
     ]
    },
    {
     "name": "stdout",
     "output_type": "stream",
     "text": [
      "\n",
      "noEnter \"YES\" to play again or enter \"NO\" : no\n"
     ]
    },
    {
     "name": "stdout",
     "output_type": "stream",
     "text": [
      "Thank's for playing\n"
     ]
    }
   ],
   "source": [
    "import random\n",
    "print(\"Let's start the rock paper scissor game!!!!\")\n",
    "while True:\n",
    "    user_choice=int(input(\"Enter a choice as shown below:\\n1.Rock\\n2.Paper\\n3.Scissor\\n\"))\n",
    "    if user_choice==1:\n",
    "        choice_selected=\"Rock\"\n",
    "    elif user_choice==2:\n",
    "        choice_selected=\"Paper\"\n",
    "    elif user_choice==3:\n",
    "        choice_selected=\"Scissor\"\n",
    "    else:\n",
    "        while user_choice>3 or user_choice<1:\n",
    "            user_choice=int(input(\"Enter a valid choice:\"))\n",
    "    if user_choice==1:\n",
    "        name=\"Rock\"\n",
    "    elif user_choice==2:\n",
    "        name=\"Paper\"\n",
    "    else:\n",
    "        name=\"Scissor\"\n",
    "    print(\"User Choice is\",name)\n",
    "    print(\"***It's Computern turn***\")\n",
    "    c_choice=random.randint(1,3)\n",
    "    if c_choice==1:\n",
    "        c_selected=\"Rock\"\n",
    "    elif c_choice==2:\n",
    "        c_selected=\"Paper\"\n",
    "    else:\n",
    "        c_selected=\"Scissor\"\n",
    "    print(\"Computer choice is\",c_selected)\n",
    "\n",
    "    #logic\n",
    "    if (user_choice==1 and c_choice==2) or (user_choice==2 and c_choice==1):\n",
    "        result=2\n",
    "    elif (user_choice==1 and c_choice==3) or (user_choice==3 and c_choice==1):\n",
    "        result=1\n",
    "    elif (user_choice==2 and c_choice==3) or (user_choice==3 and c_choice==2):\n",
    "        result=3\n",
    "    else:\n",
    "        result=\"Draw\"\n",
    "\n",
    "    if result==\"Draw\":\n",
    "        print(\"It's a Tie\")\n",
    "    elif result==c_choice:\n",
    "        print(\"***Computer Win's***\")\n",
    "    else:\n",
    "        print(\"***User Win's***\")\n",
    "    \n",
    "    c=input('Enter \"YES\" to play again or enter \"NO\" :')\n",
    "    if c.lower()=='no':\n",
    "        break\n",
    "print(\"Thank's for playing!!\")\n",
    "    \n",
    "    \n",
    "    \n",
    "            \n",
    "    "
   ]
  },
  {
   "cell_type": "code",
   "execution_count": null,
   "id": "f75737d3-e351-4731-83f2-f42b53737c66",
   "metadata": {},
   "outputs": [],
   "source": []
  }
 ],
 "metadata": {
  "kernelspec": {
   "display_name": "Python 3 (ipykernel)",
   "language": "python",
   "name": "python3"
  },
  "language_info": {
   "codemirror_mode": {
    "name": "ipython",
    "version": 3
   },
   "file_extension": ".py",
   "mimetype": "text/x-python",
   "name": "python",
   "nbconvert_exporter": "python",
   "pygments_lexer": "ipython3",
   "version": "3.12.4"
  }
 },
 "nbformat": 4,
 "nbformat_minor": 5
}
