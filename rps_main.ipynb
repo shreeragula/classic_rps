{
 "cells": [
  {
   "cell_type": "code",
   "execution_count": 1,
   "id": "9ec8177e-17b0-4920-ab68-f3cbd6d82a46",
   "metadata": {},
   "outputs": [
    {
     "name": "stdout",
     "output_type": "stream",
     "text": [
      "Let's start the rock paper scissor game!!!!\n"
     ]
    },
    {
     "name": "stdin",
     "output_type": "stream",
     "text": [
      "Enter a choice as shown below:\n",
      "1.Rock\n",
      "2.Paper\n",
      "3.Scissor\n",
      " 1\n"
     ]
    },
    {
     "name": "stdout",
     "output_type": "stream",
     "text": [
      "User Choice is Rock\n",
      "***It's Computern turn***\n",
      "Computer choice is Paper\n",
      "***Computer Win's***\n"
     ]
    },
    {
     "name": "stdin",
     "output_type": "stream",
     "text": [
      "Enter \"YES\" to play again or enter \"NO\" : yes\n",
      "Enter a choice as shown below:\n",
      "1.Rock\n",
      "2.Paper\n",
      "3.Scissor\n",
      " 2\n"
     ]
    },
    {
     "name": "stdout",
     "output_type": "stream",
     "text": [
      "User Choice is Paper\n",
      "***It's Computern turn***\n",
      "Computer choice is Scissor\n",
      "***Computer Win's***\n"
     ]
    },
    {
     "name": "stdin",
     "output_type": "stream",
     "text": [
      "Enter \"YES\" to play again or enter \"NO\" : no\n"
     ]
    },
    {
     "name": "stdout",
     "output_type": "stream",
     "text": [
      "Thank's for playing!!\n"
     ]
    }
   ],
   "source": [
    "import random\n",
    "print(\"Let's start the rock paper scissor game!!!!\")\n",
    "while True:\n",
    "    user_choice=int(input(\"Enter a choice as shown below:\\n1.Rock\\n2.Paper\\n3.Scissor\\n\"))\n",
    "    if user_choice==1:\n",
    "        choice_selected=\"Rock\"\n",
    "    elif user_choice==2:\n",
    "        choice_selected=\"Paper\"\n",
    "    elif user_choice==3:\n",
    "        choice_selected=\"Scissor\"\n",
    "    else:\n",
    "        while user_choice>3 or user_choice<1:\n",
    "            user_choice=int(input(\"Enter a valid choice:\"))\n",
    "    if user_choice==1:\n",
    "        name=\"Rock\"\n",
    "    elif user_choice==2:\n",
    "        name=\"Paper\"\n",
    "    else:\n",
    "        name=\"Scissor\"\n",
    "    print(\"User Choice is\",name)\n",
    "    print(\"***It's Computern turn***\")\n",
    "    c_choice=random.randint(1,3)\n",
    "    if c_choice==1:\n",
    "        c_selected=\"Rock\"\n",
    "    elif c_choice==2:\n",
    "        c_selected=\"Paper\"\n",
    "    else:\n",
    "        c_selected=\"Scissor\"\n",
    "    print(\"Computer choice is\",c_selected)\n",
    "\n",
    "    #logic\n",
    "    if (user_choice==1 and c_choice==2) or (user_choice==2 and c_choice==1):\n",
    "        result=2\n",
    "    elif (user_choice==1 and c_choice==3) or (user_choice==3 and c_choice==1):\n",
    "        result=1\n",
    "    elif (user_choice==2 and c_choice==3) or (user_choice==3 and c_choice==2):\n",
    "        result=3\n",
    "    else:\n",
    "        result=\"Draw\"\n",
    "\n",
    "    if result==\"Draw\":\n",
    "        print(\"It's a Tie\")\n",
    "    elif result==c_choice:\n",
    "        print(\"***Computer Win's***\")\n",
    "    else:\n",
    "        print(\"***User Win's***\")\n",
    "    \n",
    "    c=input('Enter \"YES\" to play again or enter \"NO\" :')\n",
    "    if c.lower()=='no':\n",
    "        break\n",
    "print(\"Thank's for playing!!\")\n",
    "    \n",
    "    \n",
    "    \n",
    "            \n",
    "    "
   ]
  },
  {
   "cell_type": "code",
   "execution_count": null,
   "id": "d727e62b-f414-48e4-98b5-f58a7e37fea8",
   "metadata": {},
   "outputs": [],
   "source": []
  }
 ],
 "metadata": {
  "kernelspec": {
   "display_name": "Python 3 (ipykernel)",
   "language": "python",
   "name": "python3"
  },
  "language_info": {
   "codemirror_mode": {
    "name": "ipython",
    "version": 3
   },
   "file_extension": ".py",
   "mimetype": "text/x-python",
   "name": "python",
   "nbconvert_exporter": "python",
   "pygments_lexer": "ipython3",
   "version": "3.12.4"
  }
 },
 "nbformat": 4,
 "nbformat_minor": 5
}
